{
 "cells": [
  {
   "cell_type": "code",
   "execution_count": 1,
   "metadata": {
    "scrolled": true
   },
   "outputs": [
    {
     "name": "stdout",
     "output_type": "stream",
     "text": [
      "[166  43  63 168  78   7  37 199  83 146 134 116  64  61 184  17 108  27\n",
      "  44  39 133 159  18  46 106  19 161 194  87  59 158 164 176  58  62 148\n",
      " 112 129 197  81 170 117  51 128  94 125  68  92  73  50 132  52 157  36\n",
      "  65 173  91 193 139 154  26  93   4 114 152  47  77 183  24 167  10  48\n",
      "  66   8   6 142 101  42 102 150 130 180 149 174 160  13 169  89   0 195\n",
      " 179  22  56 126  31 153 186  88  85  74  25   3  23 110 181 103  60  53\n",
      "  30 190 177 137  98 156 175 155  41  55 113 144]\n",
      "_______________________\n",
      "[ 21 189  96 105  90  16  45  20  54 165   5 122   9  14  80 111  12 107\n",
      " 120  97  57 138 162 182 104 136 143 196  95 109 141 172 198  38  35 135\n",
      "  15  34 123  76   2 192  79 178  67 163  84 185 127 151  72 119 145  11\n",
      "  33 188 124  86   1  40 118 121  28 147  32 187 131 100  82 191 140  71\n",
      "  75  49  99  70 171  69  29 115]\n"
     ]
    }
   ],
   "source": [
    "import numpy as np \n",
    "import matplotlib.pyplot as plt\n",
    "\n",
    "\n",
    "data = np.loadtxt('Advertising.csv',delimiter=',',skiprows=1,dtype=str)\n",
    "n_rows,n_cols = data.shape\n",
    "n_data = np.arange(n_rows)\n",
    "shuff = np.random.shuffle(n_data)\n",
    "\n",
    "\n",
    "TV = data[:,1]\n",
    "Radio = data[:,2]\n",
    "Newspaper = data[:,3]\n",
    "Sales = data[:,4]\n",
    "\n",
    "\n",
    "train_percent = int(0.6*n_rows)\n",
    "training_data_idx = n_data[:train_percent]\n",
    "training_data  = data[training_data_idx]\n",
    "\n",
    "\n",
    "\n",
    "test_percent = int(0.4*n_rows)\n",
    "testing_data_idx = n_data[train_percent:]\n",
    "testing_data = data[testing_data_idx]\n",
    "\n",
    "\n",
    "\n",
    "fig,ax = plt.subplots(ncols=3,figsize=(14,5))\n",
    "ax[0].scatter(training_data[:,1],training_data[:,4])\n",
    "ax[0].scatter(testing_data[:,1],testing_data[:,4])\n",
    "\n",
    "fig.tight_layout()\n",
    "\n",
    "print(training_data_idx)\n",
    "print('_______________________')\n",
    "print(testing_data_idx)"
   ]
  },
  {
   "cell_type": "code",
   "execution_count": null,
   "metadata": {},
   "outputs": [],
   "source": []
  }
 ],
 "metadata": {
  "kernelspec": {
   "display_name": "Python 3",
   "language": "python",
   "name": "python3"
  },
  "language_info": {
   "codemirror_mode": {
    "name": "ipython",
    "version": 3
   },
   "file_extension": ".py",
   "mimetype": "text/x-python",
   "name": "python",
   "nbconvert_exporter": "python",
   "pygments_lexer": "ipython3",
   "version": "3.6.9"
  }
 },
 "nbformat": 4,
 "nbformat_minor": 2
}
