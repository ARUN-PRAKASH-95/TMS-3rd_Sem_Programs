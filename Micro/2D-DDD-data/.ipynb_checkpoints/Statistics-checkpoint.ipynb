{
 "cells": [
  {
   "cell_type": "code",
   "execution_count": 1,
   "metadata": {},
   "outputs": [
    {
     "name": "stdout",
     "output_type": "stream",
     "text": [
      "['/home/arun/Desktop/CMS 3RD SEM/TMS/Programs/2D-DDD-data/w0.5.txt', '/home/arun/Desktop/CMS 3RD SEM/TMS/Programs/2D-DDD-data/w1.0.txt', '/home/arun/Desktop/CMS 3RD SEM/TMS/Programs/2D-DDD-data/w0.25.txt']\n"
     ]
    }
   ],
   "source": [
    "import matplotlib.pyplot as plt\n",
    "import numpy as np\n",
    "import os, glob\n",
    "\n",
    "fig,ax = plt.subplots()\n",
    "dir0 = os.getcwd()\n",
    "files = glob.glob(dir0+'/w*.txt')\n",
    "print(files)\n",
    "files.sort()\n",
    "\n",
    "for file in files:\n",
    "    a = np.loadtxt(file)\n",
    "    size = file.split"
   ]
  },
  {
   "cell_type": "code",
   "execution_count": null,
   "metadata": {},
   "outputs": [],
   "source": []
  }
 ],
 "metadata": {
  "kernelspec": {
   "display_name": "Python 3",
   "language": "python",
   "name": "python3"
  },
  "language_info": {
   "codemirror_mode": {
    "name": "ipython",
    "version": 3
   },
   "file_extension": ".py",
   "mimetype": "text/x-python",
   "name": "python",
   "nbconvert_exporter": "python",
   "pygments_lexer": "ipython3",
   "version": "3.6.8"
  }
 },
 "nbformat": 4,
 "nbformat_minor": 2
}
