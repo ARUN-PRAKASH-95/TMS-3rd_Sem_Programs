{
 "cells": [
  {
   "cell_type": "markdown",
   "metadata": {},
   "source": [
    "# For Generating the data points"
   ]
  },
  {
   "cell_type": "markdown",
   "metadata": {},
   "source": [
    "1. Initialise the bounds for the family car\n",
    "2. Generate random numbers with in the bounds for the family cars\n",
    "3. To generate the non-family cars which is outside of the bounds, create a 2D random number array\n",
    "4. Check whether the first point of the coordinate is outside of the bound p1 or p2 or check whether the          second point of the coordinate is outside of the bound e1 or e2     \n",
    "5.Append the first and second points to seperate arrays and then plot it"
   ]
  },
  {
   "cell_type": "code",
   "execution_count": 39,
   "metadata": {
    "scrolled": true
   },
   "outputs": [
    {
     "data": {
      "image/png": "[encoded data removed]",
      "text/plain": [
       "<Figure size 432x288 with 1 Axes>"
      ]
     },
     "metadata": {
      "needs_background": "light"
     },
     "output_type": "display_data"
    }
   ],
   "source": [
    "import numpy as np\n",
    "import random\n",
    "import matplotlib.pyplot as plt\n",
    "\n",
    "p1 =  25\n",
    "p2 =  70\n",
    "e1 =  25\n",
    "e2 =  75\n",
    "\n",
    "\n",
    "#Family Cars\n",
    "F_price = np.random.randint(p1,p2,100)\n",
    "F_power = np.random.randint(e1,e2,100)\n",
    "\n",
    "\n",
    "#Non-Family cars\n",
    "a = np.random.randint(0,100,(100,2))\n",
    "NF_price = np.array([])\n",
    "NF_power = np.array([])\n",
    "\n",
    "for i in a:\n",
    "    if (i[0]<p1 or i[0]>p2 or i[1]<e1 or i[1]>e2):\n",
    "        NF_price = np.append(NF_price,i[0])\n",
    "        NF_power = np.append(NF_power,i[1])\n",
    "   \n",
    "\n",
    "\n",
    "fig,ax = plt.subplots()\n",
    "ax.scatter(F_price,F_power,label='Family car',color='dodgerblue')\n",
    "ax.scatter(NF_price,NF_power,label='Non-Family car',color='orange')\n",
    "ax.set(xlabel='Price',ylabel='Engine power')\n",
    "ax.axhline(y=e1,xmin=0,xmax=100,linestyle='--')\n",
    "ax.axhline(y=e2,xmin=0,xmax=100,linestyle='--')\n",
    "ax.axvline(x=p1,ymin=0,ymax=100,linestyle='--')\n",
    "ax.axvline(x=p2,ymin=0,ymax=100,linestyle='--');"
   ]
  },
  {
   "cell_type": "markdown",
   "metadata": {},
   "source": [
    "# For generating whole,train and test data set"
   ]
  },
  {
   "cell_type": "markdown",
   "metadata": {},
   "source": [
    "1. First column stack the family car and non family cars, price and power\n",
    "2. Create an array of ones for family car and zeros for non-family car\n",
    "3. Column stack ones and zeros to corresponding data\n",
    "4. Then concatenate Family and non-family car data\n",
    "5. Then create an array of length of the data\n",
    "6. Shuffle the array and use it as index for taking the random data from the whole data set\n",
    "7. Seperate the random data set into training and testing data set"
   ]
  },
  {
   "cell_type": "code",
   "execution_count": 40,
   "metadata": {},
   "outputs": [
    {
     "data": {
      "image/png": "[encoded data removed]",
      "text/plain": [
       "<Figure size 432x288 with 1 Axes>"
      ]
     },
     "metadata": {
      "needs_background": "light"
     },
     "output_type": "display_data"
    }
   ],
   "source": [
    "Family_car_data = np.column_stack((F_price,F_power))\n",
    "r1,c1 = Family_car_data.shape\n",
    "ones = np.ones(r1)\n",
    "Family_car_data = np.column_stack((Family_car_data,ones))\n",
    "# print(Family_car_data)\n",
    "\n",
    "\n",
    "\n",
    "Non_Family_car_data = np.column_stack((NF_price,NF_power))\n",
    "r2,c2 = Non_Family_car_data.shape\n",
    "zeros = np.zeros(r2)\n",
    "Non_Family_car_data = np.column_stack((Non_Family_car_data,zeros))\n",
    "\n",
    "\n",
    "\n",
    "\n",
    "Total_data = np.concatenate((Family_car_data,Non_Family_car_data))\n",
    "# print(Total_data)\n",
    "\n",
    "n_rows,n_cols = Total_data.shape\n",
    "n_data = np.arange(n_rows)\n",
    "np.random.shuffle(n_data)\n",
    "\n",
    "\n",
    "\n",
    "train_percent  = int(0.6*n_rows)\n",
    "train_data_idx = n_data[:train_percent]\n",
    "train_data     = Total_data[train_data_idx]\n",
    "\n",
    "\n",
    "test_percent   = int(0.4*n_rows)\n",
    "test_data_idx  = n_data[train_percent:]\n",
    "test_data      = Total_data[test_data_idx]\n",
    "\n",
    "# print(training_data)\n",
    "\n",
    "\n",
    "fig,ax = plt.subplots()\n",
    "for x,y,z in zip(train_data[:,0],train_data[:,1],train_data[:,2]):\n",
    "    if z==1:\n",
    "        c='dodgerblue'\n",
    "        ax.scatter(x,y,color=c)\n",
    "    else:\n",
    "        c='orange'\n",
    "        ax.scatter(x,y,color=c)\n"
   ]
  }
 ],
 "metadata": {
  "kernelspec": {
   "display_name": "Python 3",
   "language": "python",
   "name": "python3"
  },
  "language_info": {
   "codemirror_mode": {
    "name": "ipython",
    "version": 3
   },
   "file_extension": ".py",
   "mimetype": "text/x-python",
   "name": "python",
   "nbconvert_exporter": "python",
   "pygments_lexer": "ipython3",
   "version": "3.6.9"
  }
 },
 "nbformat": 4,
 "nbformat_minor": 2
}
