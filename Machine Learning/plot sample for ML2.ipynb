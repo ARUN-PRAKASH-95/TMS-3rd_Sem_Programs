{
 "cells": [
  {
   "cell_type": "code",
   "execution_count": 34,
   "metadata": {},
   "outputs": [
    {
     "data": {
      "image/png": "[encoded data removed]",
      "text/plain": [
       "<Figure size 432x288 with 1 Axes>"
      ]
     },
     "metadata": {
      "needs_background": "light"
     },
     "output_type": "display_data"
    }
   ],
   "source": [
    "import numpy as np\n",
    "import matplotlib.pyplot as plt\n",
    "\n",
    "a = np.random.randint(0,10,(10,2))\n",
    "n_rows,n_cols = a.shape\n",
    "b = np.ones(n_rows)\n",
    "# print(a)\n",
    "a = np.column_stack((a,b))\n",
    "\n",
    "\n",
    "for x,y,z in zip(a[:,0],a[:,1],a[:,2]):\n",
    "    if z == 1:\n",
    "        c = 'blue'\n",
    "        plt.scatter(x,y,color=c)"
   ]
  },
  {
   "cell_type": "code",
   "execution_count": null,
   "metadata": {},
   "outputs": [],
   "source": []
  }
 ],
 "metadata": {
  "kernelspec": {
   "display_name": "Python 3",
   "language": "python",
   "name": "python3"
  },
  "language_info": {
   "codemirror_mode": {
    "name": "ipython",
    "version": 3
   },
   "file_extension": ".py",
   "mimetype": "text/x-python",
   "name": "python",
   "nbconvert_exporter": "python",
   "pygments_lexer": "ipython3",
   "version": "3.6.9"
  }
 },
 "nbformat": 4,
 "nbformat_minor": 2
}
