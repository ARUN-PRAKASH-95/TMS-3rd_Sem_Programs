{
 "cells": [
  {
   "cell_type": "code",
   "execution_count": 3,
   "metadata": {},
   "outputs": [
    {
     "data": {
      "image/png": "[encoded data removed]",
      "text/plain": [
       "<Figure size 432x288 with 1 Axes>"
      ]
     },
     "metadata": {
      "needs_background": "light"
     },
     "output_type": "display_data"
    }
   ],
   "source": [
    "import numpy as np\n",
    "import matplotlib.pyplot as plt\n",
    "\n",
    "\n",
    "n_data = 14\n",
    "classes = [1,3,4,7]\n",
    "x = np.linspace(0,1,n_data)\n",
    "\n",
    "def f_true(x):\n",
    "    return x**2\n",
    "\n",
    "y = f_true(x) + np.random.normal(scale=0.3, size = x.size)\n",
    "\n",
    "\n",
    "\n",
    "fig,ax = plt.subplots()\n",
    "ax.plot(x,y,'o');\n",
    "\n",
    "\n",
    "split = 0.6 \n",
    "n_train = int(split*n_data)\n",
    "\n"
   ]
  },
  {
   "cell_type": "code",
   "execution_count": null,
   "metadata": {},
   "outputs": [],
   "source": []
  }
 ],
 "metadata": {
  "kernelspec": {
   "display_name": "Python 3",
   "language": "python",
   "name": "python3"
  },
  "language_info": {
   "codemirror_mode": {
    "name": "ipython",
    "version": 3
   },
   "file_extension": ".py",
   "mimetype": "text/x-python",
   "name": "python",
   "nbconvert_exporter": "python",
   "pygments_lexer": "ipython3",
   "version": "3.6.9"
  }
 },
 "nbformat": 4,
 "nbformat_minor": 2
}
