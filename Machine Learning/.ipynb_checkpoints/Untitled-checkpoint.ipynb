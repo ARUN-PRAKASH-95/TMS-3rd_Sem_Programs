{
 "cells": [
  {
   "cell_type": "code",
   "execution_count": 48,
   "metadata": {},
   "outputs": [
    {
     "name": "stdout",
     "output_type": "stream",
     "text": [
      "[[], array([2, 5]), array([1, 2])]\n",
      "[list([]) array([2, 5]) array([1, 2])]\n",
      "[list([])]\n"
     ]
    }
   ],
   "source": [
    "import numpy as np\n",
    "\n",
    "a = np.array([[2,5],[1,2]])\n",
    "\n",
    "b = [[]]\n",
    "\n",
    "for i in a:\n",
    "    c=np.all(i<6)\n",
    "    d=np.all(i<7)\n",
    "   \n",
    "    if c == d == True:\n",
    "        b.append(i)\n",
    "        \n",
    "\n",
    "\n"
   ]
  },
  {
   "cell_type": "code",
   "execution_count": null,
   "metadata": {},
   "outputs": [],
   "source": []
  }
 ],
 "metadata": {
  "kernelspec": {
   "display_name": "Python 3",
   "language": "python",
   "name": "python3"
  },
  "language_info": {
   "codemirror_mode": {
    "name": "ipython",
    "version": 3
   },
   "file_extension": ".py",
   "mimetype": "text/x-python",
   "name": "python",
   "nbconvert_exporter": "python",
   "pygments_lexer": "ipython3",
   "version": "3.6.9"
  }
 },
 "nbformat": 4,
 "nbformat_minor": 2
}
