{
 "cells": [
  {
   "cell_type": "code",
   "execution_count": 6,
   "metadata": {
    "scrolled": true
   },
   "outputs": [
    {
     "name": "stdout",
     "output_type": "stream",
     "text": [
      "[ 78.  95.  11.   4.  15. 100. 122. 108.  90.  82.   1. 116.  77.  14.\n",
      "  72.  17.  81.  17.  85. 126. 111.   2.  95.  96.]\n",
      "[  2. 134. 145. 126. 138. 117. 144. 106. 148. 120.  88. 149.   9.  98.\n",
      " 107. 144. 117. 135. 107.  88.  78.  20.  92. 143.]\n"
     ]
    },
    {
     "data": {
      "image/png": "[encoded data removed]",
      "text/plain": [
       "<Figure size 432x288 with 1 Axes>"
      ]
     },
     "metadata": {
      "needs_background": "light"
     },
     "output_type": "display_data"
    }
   ],
   "source": [
    "import numpy as np\n",
    "import random\n",
    "import matplotlib.pyplot as plt\n",
    "\n",
    "p1 =  25\n",
    "p2 =  70\n",
    "e1 =  25\n",
    "e2 =  75\n",
    "\n",
    "F_price = np.random.randint(p1,p2,100)\n",
    "F_power = np.random.randint(e1,e2,100)\n",
    "\n",
    "\n",
    "\n",
    "a = np.random.randint(0,100,(100,2))\n",
    "# print(a)\n",
    "# print(a[:,0])\n",
    "\n",
    "NF_price = np.array([])\n",
    "NF_power = np.array([])\n",
    "\n",
    "for i in a:\n",
    "    if (i[0]<p1 or i[0]>p2) and (i[1]<e1 or i[1]>e2):\n",
    "        NF_price = np.append(NF_price,i[0])\n",
    "        NF_power = np.append(NF_power,i[1])\n",
    "   \n",
    "\n",
    "  \n",
    "   \n",
    "\n",
    "\n",
    "\n",
    "print(NF_price)\n",
    "print(NF_power)\n",
    "fig,ax = plt.subplots()\n",
    "ax.scatter(F_price,F_power);\n",
    "ax.scatter(NF_price,NF_power);"
   ]
  },
  {
   "cell_type": "code",
   "execution_count": null,
   "metadata": {},
   "outputs": [],
   "source": []
  }
 ],
 "metadata": {
  "kernelspec": {
   "display_name": "Python 3",
   "language": "python",
   "name": "python3"
  },
  "language_info": {
   "codemirror_mode": {
    "name": "ipython",
    "version": 3
   },
   "file_extension": ".py",
   "mimetype": "text/x-python",
   "name": "python",
   "nbconvert_exporter": "python",
   "pygments_lexer": "ipython3",
   "version": "3.6.9"
  }
 },
 "nbformat": 4,
 "nbformat_minor": 2
}
